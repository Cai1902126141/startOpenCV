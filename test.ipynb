{
 "cells": [
  {
   "cell_type": "code",
   "execution_count": null,
   "metadata": {},
   "outputs": [],
   "source": [
    "import cv2\n",
    "#创建窗口\n",
    "cv2.namedWindow('windows',cv2.WINDOW_NORMAL)\n",
    "#修改窗口大小\n",
    "cv2.resizeWindow('windows',800,600)\n",
    "#展示名字为window的窗口\n",
    "cv2.imshow('windows',0)\n",
    "#等待按键输入，最多delay 5000ms\n",
    "key = cv2.waitKey(0)\n",
    "if key == ord('q'):\n",
    "    print(\"exit\")\n",
    "    cv2.destroyAllWindows()"
   ]
  }
 ],
 "metadata": {
  "kernelspec": {
   "display_name": "opencv",
   "language": "python",
   "name": "python3"
  },
  "language_info": {
   "codemirror_mode": {
    "name": "ipython",
    "version": 3
   },
   "file_extension": ".py",
   "mimetype": "text/x-python",
   "name": "python",
   "nbconvert_exporter": "python",
   "pygments_lexer": "ipython3",
   "version": "3.12.2"
  }
 },
 "nbformat": 4,
 "nbformat_minor": 2
}
