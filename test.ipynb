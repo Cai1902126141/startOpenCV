{
 "cells": [
  {
   "cell_type": "code",
   "execution_count": 38,
   "metadata": {},
   "outputs": [],
   "source": [
    "import cv2\n",
    "import numpy as np"
   ]
  },
  {
   "cell_type": "markdown",
   "metadata": {},
   "source": [
    "### 打开关闭窗口"
   ]
  },
  {
   "cell_type": "code",
   "execution_count": 1,
   "metadata": {},
   "outputs": [
    {
     "name": "stdout",
     "output_type": "stream",
     "text": [
      "exit\n"
     ]
    }
   ],
   "source": [
    "#创建窗口\n",
    "cv2.namedWindow('windows',cv2.WINDOW_NORMAL)\n",
    "#修改窗口大小\n",
    "cv2.resizeWindow('windows',800,600)\n",
    "#展示名字为window的窗口\n",
    "cv2.imshow('windows',0)\n",
    "#等待按键输入，最多delay 5000ms\n",
    "key = cv2.waitKey(0)\n",
    "#key 是int型，最少是16位，但是ascii码是8位\n",
    "if key & 0xFF == ord('q'):\n",
    "    print(\"exit\")\n",
    "    cv2.destroyAllWindows()"
   ]
  },
  {
   "cell_type": "markdown",
   "metadata": {},
   "source": [
    "### 读取图片并打开"
   ]
  },
  {
   "cell_type": "code",
   "execution_count": 2,
   "metadata": {},
   "outputs": [],
   "source": [
    "def cv_show(name,img):\n",
    "    cv2.imshow(name,img)\n",
    "    key = cv2.waitKey(0)\n",
    "    if key == ord('q'):\n",
    "        cv2.destroyAllWindows()\n",
    "\n",
    "#读相对目录下的某个照片\n",
    "cat = cv2.imread('./picture/cat.jpeg')\n",
    "\n",
    "#窗口打开图片\n",
    "cv_show('cat',cat)"
   ]
  },
  {
   "cell_type": "markdown",
   "metadata": {},
   "source": [
    "### 保存图片"
   ]
  },
  {
   "cell_type": "code",
   "execution_count": 5,
   "metadata": {},
   "outputs": [],
   "source": [
    "def cv_catch(num,name):\n",
    "    str_num = str(num)\n",
    "    catalog = f\"\"\"./picture/{str_num}.png\"\"\"\n",
    "    print(\"save in\"+catalog)\n",
    "    cv2.imwrite(catalog,name)"
   ]
  },
  {
   "cell_type": "code",
   "execution_count": null,
   "metadata": {},
   "outputs": [],
   "source": [
    "cv2.imshow('cat',cat)\n",
    "num = 0\n",
    "while True:\n",
    "    key = cv2.waitKey(0)\n",
    "    #每次按下's'键后，保存图片并num+1\n",
    "    if key == ord('s'):       \n",
    "        cv_catch(num,cat)\n",
    "        num += 1 \n",
    "    #每次按下'q'键后，退出所有窗口\n",
    "    elif key == ord('q'):\n",
    "        num = 0\n",
    "        cv2.destroyAllWindows()\n",
    "        break"
   ]
  },
  {
   "cell_type": "markdown",
   "metadata": {},
   "source": [
    "### 视频采集"
   ]
  },
  {
   "cell_type": "code",
   "execution_count": 4,
   "metadata": {},
   "outputs": [],
   "source": [
    "#打开目录的指定视频\n",
    "\n",
    "cv2.namedWindow('video',cv2.WINDOW_NORMAL)\n",
    "\n",
    "\n",
    "#打开摄像头\n",
    "#cap = cv2.VideoCapture(0)\n",
    "#cv2.resizeWindow('video',640,480)\n",
    "\n",
    "#打开视频\n",
    "cap = cv2.VideoCapture('./video/koen.mp4')\n",
    "cv2.resizeWindow('video',720,1280)\n",
    "\n",
    "#循环读每一帧\n",
    "while True:\n",
    "    #读一帧，返回标记\n",
    "    ret, frame = cap.read()\n",
    "    #根据ret判断\n",
    "    if not ret:\n",
    "        break\n",
    "    #显示数据\n",
    "    cv2.imshow('video',frame)\n",
    "    \n",
    "    #隔100ms检测一下\n",
    "    key = cv2.waitKey(16)\n",
    "    if key == ord('q'):\n",
    "        cv2.destroyAllWindows()\n",
    "        break\n",
    "    cap.release\n",
    "    \n"
   ]
  },
  {
   "cell_type": "markdown",
   "metadata": {},
   "source": [
    "### 识别视频中的人脸"
   ]
  },
  {
   "cell_type": "code",
   "execution_count": 35,
   "metadata": {},
   "outputs": [],
   "source": [
    "def detector_class(frame,Classifier):\n",
    "    #得到灰阶图\n",
    "    gray = cv2.cvtColor(frame, code=cv2.COLOR_BGR2GRAY)\n",
    "    \n",
    "    #检测特征物\n",
    "    detector_frame = Classifier.detectMultiScale(gray,\n",
    "                                                 scaleFactor = 1.1,\n",
    "                                                 minNeighbors = 10)\n",
    "    #在原始画面红框圈出特征物\n",
    "    for x,y,h,w in detector_frame:\n",
    "        cv2.rectangle(frame,\n",
    "                    pt1 = (x,y),\n",
    "                    pt2=(x+w,y+h),\n",
    "                    color=[0,0,255],thickness=2\n",
    "                    ) "
   ]
  },
  {
   "cell_type": "code",
   "execution_count": 37,
   "metadata": {},
   "outputs": [
    {
     "name": "stdout",
     "output_type": "stream",
     "text": [
      "Exit now\n"
     ]
    }
   ],
   "source": [
    "cap = cv2.VideoCapture(0)\n",
    "cv2.namedWindow('video',cv2.WINDOW_NORMAL)\n",
    "cv2.resizeWindow('video',640,480)\n",
    "#导入特征文件\n",
    "face_detector = cv2.CascadeClassifier('./classfile/haarcascade_frontalface_alt.xml')\n",
    "num = 0\n",
    "while True:\n",
    "    #ret为是否读取标志位\n",
    "    ret,frame = cap.read() \n",
    "    #r如果读不到，则退出和释放\n",
    "    if not ret:\n",
    "        break\n",
    "    #圈出识别物\n",
    "    detector_class(frame,face_detector)\n",
    "    cv2.imshow('video',frame)\n",
    "    #根据帧数取整设置延时\n",
    "    key = cv2.waitKey(1000//60)\n",
    "    #键入S抓取视频图片\n",
    "    if key == ord('s'):       \n",
    "        cv_catch(num,frame)\n",
    "        num += 1 \n",
    "    #键入Q则关闭窗口和释放\n",
    "    elif key == ord('q'): \n",
    "        num = 0\n",
    "        print(\"Exit now\")\n",
    "        break   \n",
    "cv2.destroyAllWindows()\n",
    "cap.release()\n",
    "    \n"
   ]
  },
  {
   "cell_type": "markdown",
   "metadata": {},
   "source": [
    "### 加入ssd模型做人脸识别"
   ]
  },
  {
   "cell_type": "code",
   "execution_count": 86,
   "metadata": {},
   "outputs": [
    {
     "name": "stdout",
     "output_type": "stream",
     "text": [
      "Exit now\n"
     ]
    }
   ],
   "source": [
    "cap = cv2.VideoCapture(0)\n",
    "w = 640\n",
    "h = 480\n",
    "cv2.namedWindow('video',cv2.WINDOW_NORMAL)\n",
    "cv2.resizeWindow('video',w,h)\n",
    "#导入特征文件\n",
    "face_detector = cv2.CascadeClassifier('./classfile/haarcascade_frontalface_alt.xml')\n",
    "\n",
    "model_file = r\"./classfile/ssd/deploy.prototxt.txt\"\n",
    "pretrained_weights = r\"./classfile/ssd/res10_300x300_ssd_iter_140000_fp16.caffemodel\"\n",
    "# 加载预训练的SSD模型和权重\n",
    "net = cv2.dnn.readNetFromCaffe(model_file, pretrained_weights)\n",
    "\n",
    "\n",
    "num = 0\n",
    "while True:\n",
    "    #ret为是否读取标志位\n",
    "    ret,frame = cap.read() \n",
    "    #r如果读不到，则退出和释放\n",
    "    if not ret:\n",
    "        break\n",
    "    #将图像的大小调整为300x300,并创建blob\n",
    "    blob = cv2.dnn.blobFromImage(cv2.resize(frame, (512, 512)), 1.0,\n",
    "                            (512, 512), (104.0, 177.0, 123.0))       \n",
    "    # 输入blob到网络中\n",
    "    net.setInput(blob)\n",
    "    #np.squeeze减少大小为1的维度\n",
    "    detections = np.squeeze(net.forward())\n",
    "    # 遍历检测结果\n",
    "    for i in range(detections.shape[0]):\n",
    "        confidence = detections[i, 2]  # 获取置信度\n",
    "        \n",
    "        if confidence > 0.3:\n",
    "            # 通过检测结果计算人脸的边界框坐标,调整3:的值来调整识别精度，原始值为7\n",
    "            box = detections[i, 3:7] * np.array([w, h, w, h])\n",
    "            (startX, startY, endX, endY) = box.astype(\"int\")\n",
    "            # 构建标签字符串\n",
    "            label = f\"Face: {confidence * 100:.2f}%\"\n",
    "            # 绘制边界框和标签\n",
    "            cv2.rectangle(frame, (startX, startY), (endX, endY), (0, 255, 0), 2)\n",
    "            y = startY - 15 if startY - 15 > 15 else startY + 15\n",
    "            cv2.putText(frame, label, (startX, y), cv2.FONT_HERSHEY_SIMPLEX, 0.5, (0, 255, 0), 2)\n",
    "\n",
    "    \n",
    "    cv2.imshow('video',frame)\n",
    "    #根据帧数取整设置延时\n",
    "    key = cv2.waitKey(1000//90)\n",
    "    #键入S抓取视频图片\n",
    "    if key == ord('s'):       \n",
    "        cv_catch(num,frame)\n",
    "        num += 1 \n",
    "    #键入Q则关闭窗口和释放\n",
    "    elif key == ord('q') : \n",
    "        num = 0\n",
    "        print(\"Exit now\")\n",
    "        break   \n",
    "cv2.destroyAllWindows()\n",
    "cap.release()\n",
    "    \n"
   ]
  }
 ],
 "metadata": {
  "kernelspec": {
   "display_name": "opencv",
   "language": "python",
   "name": "python3"
  },
  "language_info": {
   "codemirror_mode": {
    "name": "ipython",
    "version": 3
   },
   "file_extension": ".py",
   "mimetype": "text/x-python",
   "name": "python",
   "nbconvert_exporter": "python",
   "pygments_lexer": "ipython3",
   "version": "3.12.2"
  }
 },
 "nbformat": 4,
 "nbformat_minor": 2
}
